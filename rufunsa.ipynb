{
 "cells": [
  {
   "cell_type": "code",
   "execution_count": 3,
   "id": "e71a47ec",
   "metadata": {},
   "outputs": [],
   "source": [
    "import pandas as pd\n",
    "from scipy.stats import fisher_exact"
   ]
  },
  {
   "cell_type": "code",
   "execution_count": 4,
   "id": "c3a29842",
   "metadata": {},
   "outputs": [],
   "source": [
    "data = pd.read_csv(\"data.csv\")"
   ]
  },
  {
   "cell_type": "code",
   "execution_count": 7,
   "id": "99aa8b58",
   "metadata": {},
   "outputs": [],
   "source": [
    "variables = [\n",
    "  \"Agechildcat2\", \n",
    "  \"Childgender\",\n",
    "  \"vaccination_Status3\",\n",
    "  \"Child_Place_of_birth2\",\n",
    "  \"Days_past_since_diarrhea2\",\n",
    "  \"Days_past_since_diarrhea2\",\n",
    "  \"Parity_category\",\n",
    "  \"Childchild_sick_yester\",\n",
    "  \"Respondent_Agenumcat4\",\n",
    "  \"care_giver_education_level2\",\n",
    "  \"Mother_Current_State2\",\n",
    "  \"Taken_iron_Tablets_7_days\",\n",
    "  \"Mother_VitA_Last_3_months\",\n",
    "  \"Received_antenatal_Care\",\n",
    "  \"Care_giver_farming\",\n",
    "  \"Caregiver_other_activities3\",\n",
    "  \"Care_giver_mothercrops3\"\n",
    "]\n",
    "\n",
    "column = \"Met_MDD\""
   ]
  },
  {
   "cell_type": "code",
   "execution_count": 8,
   "id": "6b7922a6",
   "metadata": {},
   "outputs": [],
   "source": [
    "dfout = pd.DataFrame()\n",
    "\n",
    "for variable in variables:\n",
    "  # Create a DataFrame for the variable\n",
    "  df1 = pd.DataFrame({\"Variable\": [variable]})\n",
    "  \n",
    "  # Create a crosstab for the variable and the column\n",
    "  df2 = pd.crosstab(data[variable], data[column])\n",
    "  df2 = df2[[\"yes\", \"no\"]]\n",
    "  \n",
    "  # Creact a DataFrame for value labels\n",
    "  df3 = pd.DataFrame({\"Labels\": df2.index})\n",
    "  \n",
    "  df4 = pd.concat([df1, df3], axis=1)\n",
    "  \n",
    "  # Calculate percentages\n",
    "  df5 = df2.copy()\n",
    "  offset = 0\n",
    "  for i in range(df2.columns.size):\n",
    "    values = [ round((x/df2.iloc[:,i].sum())*100,2) for x in df2.iloc[:,i]]\n",
    "    df5.insert(i+1+offset, df2.columns[i]+\"_perc\", value=values)\n",
    "    offset += 1\n",
    "  df5 = df5.reset_index(drop=True)\n",
    "  \n",
    "  df6 = pd.concat([df4,df5], axis=1)\n",
    "    \n",
    "  # Calculate Fisher's exact test\n",
    "  odds_ratio, p_value = fisher_exact(df2)\n",
    "  df7 = pd.DataFrame({\"p_value\": [round(p_value, 2) if p_value > 0.01 else \"<0.01\"]})\n",
    "\n",
    "  # Concatenate all DataFrames\n",
    "  dffinal = pd.concat([df6, df7], axis=1)\n",
    "  \n",
    "  dfout = pd.concat([dfout, dffinal], ignore_index=True)\n"
   ]
  }
 ],
 "metadata": {
  "kernelspec": {
   "display_name": "env",
   "language": "python",
   "name": "python3"
  },
  "language_info": {
   "codemirror_mode": {
    "name": "ipython",
    "version": 3
   },
   "file_extension": ".py",
   "mimetype": "text/x-python",
   "name": "python",
   "nbconvert_exporter": "python",
   "pygments_lexer": "ipython3",
   "version": "3.12.1"
  }
 },
 "nbformat": 4,
 "nbformat_minor": 5
}
